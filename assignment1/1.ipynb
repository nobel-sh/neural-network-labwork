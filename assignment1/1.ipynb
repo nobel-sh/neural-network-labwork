{
 "cells": [
  {
   "cell_type": "markdown",
   "id": "4a21f2da",
   "metadata": {},
   "source": [
    "# Building a Neural Network from scratch"
   ]
  },
  {
   "cell_type": "code",
   "execution_count": 1,
   "id": "834010d8",
   "metadata": {},
   "outputs": [],
   "source": [
    "import numpy as np\n",
    "import matplotlib.pyplot as plt\n",
    "%matplotlib inline"
   ]
  },
  {
   "cell_type": "markdown",
   "id": "3d4d2059",
   "metadata": {},
   "source": [
    "Prepare the data for XOR operations."
   ]
  },
  {
   "cell_type": "code",
   "execution_count": 2,
   "id": "c412b755",
   "metadata": {},
   "outputs": [],
   "source": [
    "X = np.array([ [0, 1], [1, 0], [1, 1],[0, 0] ])\n",
    "y = np.array([ [1], [1], [0], [0]])"
   ]
  },
  {
   "cell_type": "markdown",
   "id": "ea27f70e",
   "metadata": {},
   "source": [
    "Defining the number of nodes in each layer."
   ]
  },
  {
   "cell_type": "code",
   "execution_count": 3,
   "id": "14aa5a02",
   "metadata": {},
   "outputs": [],
   "source": [
    "num_input = 2\n",
    "num_hidden = 5\n",
    "num_output = 1"
   ]
  },
  {
   "cell_type": "markdown",
   "id": "b508eb66",
   "metadata": {},
   "source": [
    "Initializing the weights and bias randomly. First, we initialize the input to\n",
    "hidden layer weights."
   ]
  },
  {
   "cell_type": "code",
   "execution_count": 4,
   "id": "a3302c52",
   "metadata": {},
   "outputs": [],
   "source": [
    "Wxh = np.random.randn(num_input,num_hidden)\n",
    "bh = np.zeros((1,num_hidden))\n",
    "\n",
    "Why = np.random.randn (num_hidden,num_output)\n",
    "by = np.zeros((1,num_output))"
   ]
  },
  {
   "cell_type": "markdown",
   "id": "52aedfd8",
   "metadata": {},
   "source": [
    "Define the sigmoid activation function."
   ]
  },
  {
   "cell_type": "code",
   "execution_count": 5,
   "id": "e909ba20",
   "metadata": {},
   "outputs": [],
   "source": [
    "def sigmoid(z):\n",
    "    return 1 / (1+np.exp(-z))"
   ]
  },
  {
   "cell_type": "markdown",
   "id": "7ed9cae3",
   "metadata": {},
   "source": [
    "Define the derivative of the sigmoid function."
   ]
  },
  {
   "cell_type": "code",
   "execution_count": 6,
   "id": "184b4410",
   "metadata": {},
   "outputs": [],
   "source": [
    "def sigmoid_derivative(z):\n",
    "    return np.exp(-z)/((1+np.exp(-z))**2)"
   ]
  },
  {
   "cell_type": "markdown",
   "id": "fbcc42cd",
   "metadata": {},
   "source": [
    "Define the forward propagation"
   ]
  },
  {
   "cell_type": "code",
   "execution_count": 7,
   "id": "89ba0a38",
   "metadata": {},
   "outputs": [],
   "source": [
    "def forward_prop(X,Wxh,Why):\n",
    "    z1 = np.dot(X,Wxh) + bh\n",
    "    a1 = sigmoid(z1)\n",
    "    z2 = np.dot(a1,Why) + by\n",
    "    y_hat = sigmoid(z2)\n",
    "    return z1,a1,z2,y_hat"
   ]
  },
  {
   "cell_type": "markdown",
   "id": "545ef189",
   "metadata": {},
   "source": [
    "Define the backward propagation"
   ]
  },
  {
   "cell_type": "code",
   "execution_count": 8,
   "id": "7dc27ff1",
   "metadata": {},
   "outputs": [],
   "source": [
    "def backword_prop(y_hat, z1, a1, z2):\n",
    "    delta2 = np.multiply(-(y-y_hat),sigmoid_derivative(z2))\n",
    "    dJ_dWhy = np.dot(a1.T, delta2)\n",
    "    delta1 = np.dot(delta2,Why.T)*sigmoid_derivative(z1)\n",
    "    dJ_dWxh = np.dot(X.T, delta1)\n",
    "    return dJ_dWxh, dJ_dWhy"
   ]
  },
  {
   "cell_type": "markdown",
   "id": "f053eb00",
   "metadata": {},
   "source": [
    "Define the cost function"
   ]
  },
  {
   "cell_type": "code",
   "execution_count": 9,
   "id": "02fde099",
   "metadata": {},
   "outputs": [],
   "source": [
    "def cost_function(y, y_hat):\n",
    "    J = 0.5*sum((y-y_hat)**2)\n",
    "    return J"
   ]
  },
  {
   "cell_type": "markdown",
   "id": "26aea95c",
   "metadata": {},
   "source": [
    "Set the learning rate and the number of training iterations"
   ]
  },
  {
   "cell_type": "code",
   "execution_count": 10,
   "id": "f3e7af32",
   "metadata": {},
   "outputs": [],
   "source": [
    "alpha = 0.01\n",
    "num_iterations = 5000"
   ]
  },
  {
   "cell_type": "markdown",
   "id": "3c539824",
   "metadata": {},
   "source": [
    "Now, lets start training the network with the following code"
   ]
  },
  {
   "cell_type": "code",
   "execution_count": 11,
   "id": "8cca2ccf",
   "metadata": {},
   "outputs": [],
   "source": [
    "cost =[]\n",
    "for i in range(num_iterations):\n",
    "    z1,a1,z2,y_hat = forward_prop(X,Wxh,Why)\n",
    "    dJ_dWxh, dJ_dWhy = backword_prop(y_hat, z1, a1, z2)\n",
    "    #update weights\n",
    "    Wxh = Wxh -alpha * dJ_dWxh\n",
    "    Why = Why -alpha * dJ_dWhy\n",
    "    #compute cost\n",
    "    c = cost_function(y, y_hat)\n",
    "    cost.append(c)"
   ]
  },
  {
   "cell_type": "markdown",
   "id": "00d3d2fe",
   "metadata": {},
   "source": [
    "Plot the cost function"
   ]
  },
  {
   "cell_type": "code",
   "execution_count": 12,
   "id": "92a69258",
   "metadata": {},
   "outputs": [
    {
     "data": {
      "text/plain": [
       "Text(0, 0.5, 'Cost')"
      ]
     },
     "execution_count": 12,
     "metadata": {},
     "output_type": "execute_result"
    },
    {
     "data": {
      "image/png": "[encoded data removed]",
      "text/plain": [
       "<Figure size 640x480 with 1 Axes>"
      ]
     },
     "metadata": {},
     "output_type": "display_data"
    }
   ],
   "source": [
    "plt.grid()\n",
    "plt.plot(range(num_iterations),cost)\n",
    "plt.title('Cost Function')\n",
    "plt.xlabel('Training Iterations')\n",
    "plt.ylabel('Cost')"
   ]
  },
  {
   "cell_type": "markdown",
   "id": "09a4ee65",
   "metadata": {},
   "source": [
    "As you can observe in the following plot, the loss decreases over the training\n",
    "iterations"
   ]
  }
 ],
 "metadata": {
  "kernelspec": {
   "display_name": "Python 3 (ipykernel)",
   "language": "python",
   "name": "python3"
  },
  "language_info": {
   "codemirror_mode": {
    "name": "ipython",
    "version": 3
   },
   "file_extension": ".py",
   "mimetype": "text/x-python",
   "name": "python",
   "nbconvert_exporter": "python",
   "pygments_lexer": "ipython3",
   "version": "3.12.3"
  }
 },
 "nbformat": 4,
 "nbformat_minor": 5
}
